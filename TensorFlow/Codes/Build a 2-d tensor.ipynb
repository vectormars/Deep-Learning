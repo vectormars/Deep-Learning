{
 "cells": [
  {
   "cell_type": "code",
   "execution_count": 1,
   "metadata": {},
   "outputs": [
    {
     "name": "stderr",
     "output_type": "stream",
     "text": [
      "C:\\Anaconda3\\lib\\site-packages\\h5py\\__init__.py:36: FutureWarning: Conversion of the second argument of issubdtype from `float` to `np.floating` is deprecated. In future, it will be treated as `np.float64 == np.dtype(float).type`.\n",
      "  from ._conv import register_converters as _register_converters\n"
     ]
    }
   ],
   "source": [
    "import tensorflow as tf\n",
    "import numpy as np"
   ]
  },
  {
   "cell_type": "code",
   "execution_count": 2,
   "metadata": {},
   "outputs": [],
   "source": [
    "tensor_2d = np.array(np.random.rand(4, 4), dtype='float32')\n",
    "tensor_2d_1 = np.array(np.random.rand(4, 4), dtype='float32')\n",
    "tensor_2d_2 = np.array(np.random.rand(4, 4), dtype='float32')"
   ]
  },
  {
   "cell_type": "code",
   "execution_count": 3,
   "metadata": {},
   "outputs": [],
   "source": [
    "m1 = tf.convert_to_tensor(tensor_2d)\n",
    "m2 = tf.convert_to_tensor(tensor_2d_1)\n",
    "m3 = tf.convert_to_tensor(tensor_2d_2)\n",
    "mat_product = tf.matmul(m1, m2)\n",
    "mat_sum = tf.add(m2, m3)\n",
    "mat_det = tf.matrix_determinant(m3)"
   ]
  },
  {
   "cell_type": "code",
   "execution_count": 4,
   "metadata": {},
   "outputs": [
    {
     "name": "stdout",
     "output_type": "stream",
     "text": [
      "[[0.41330767 0.36791688 1.0165449  0.67771304]\n",
      " [1.0029166  1.0602971  1.0846562  1.5339555 ]\n",
      " [0.46028447 0.49538833 0.5458244  0.71282977]\n",
      " [0.5725011  0.43248078 0.8553352  0.7943706 ]]\n",
      "[[0.7967986  0.5346777  0.69821525 0.6680142 ]\n",
      " [0.60753405 0.96637034 1.3996315  0.9359075 ]\n",
      " [1.1104159  1.1318126  0.7358958  0.89402175]\n",
      " [0.45528507 0.46733963 0.7194044  1.1109136 ]]\n",
      "0.0681089\n"
     ]
    }
   ],
   "source": [
    "with tf.Session() as session:\n",
    "    print(session.run(mat_product))\n",
    "    print(session.run(mat_sum))\n",
    "    print(session.run(mat_det))"
   ]
  }
 ],
 "metadata": {
  "kernelspec": {
   "display_name": "Python 3",
   "language": "python",
   "name": "python3"
  },
  "language_info": {
   "codemirror_mode": {
    "name": "ipython",
    "version": 3
   },
   "file_extension": ".py",
   "mimetype": "text/x-python",
   "name": "python",
   "nbconvert_exporter": "python",
   "pygments_lexer": "ipython3",
   "version": "3.6.4"
  }
 },
 "nbformat": 4,
 "nbformat_minor": 2
}
