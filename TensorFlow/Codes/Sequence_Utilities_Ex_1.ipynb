{
 "cells": [
  {
   "cell_type": "code",
   "execution_count": 1,
   "metadata": {},
   "outputs": [
    {
     "name": "stderr",
     "output_type": "stream",
     "text": [
      "C:\\Anaconda3\\lib\\site-packages\\h5py\\__init__.py:36: FutureWarning: Conversion of the second argument of issubdtype from `float` to `np.floating` is deprecated. In future, it will be treated as `np.float64 == np.dtype(float).type`.\n",
      "  from ._conv import register_converters as _register_converters\n"
     ]
    }
   ],
   "source": [
    "import numpy as np\n",
    "import tensorflow as tf"
   ]
  },
  {
   "cell_type": "code",
   "execution_count": 2,
   "metadata": {},
   "outputs": [],
   "source": [
    "def convert(v, t=tf.float32):\n",
    "    return tf.convert_to_tensor(v, dtype=t)"
   ]
  },
  {
   "cell_type": "code",
   "execution_count": 3,
   "metadata": {},
   "outputs": [],
   "source": [
    "x = convert(np.array([\n",
    "    [2, 2, 1, 3],\n",
    "    [4, 5, 6, -1],\n",
    "    [0, 1, 1, -2],\n",
    "    [6, 2, 3, 0]\n",
    "]))"
   ]
  },
  {
   "cell_type": "code",
   "execution_count": 4,
   "metadata": {},
   "outputs": [],
   "source": [
    "y0 = convert(np.array([1, 2, 5, 3, 7]))\n",
    "y1 = convert(np.array([1, 1, 5, 3, 3]))\n",
    "z = convert(np.array([1, 0, 4, 6, 2]))"
   ]
  },
  {
   "cell_type": "markdown",
   "metadata": {},
   "source": [
    "##### tf.argmin"
   ]
  },
  {
   "cell_type": "code",
   "execution_count": 5,
   "metadata": {},
   "outputs": [],
   "source": [
    "arg_min = tf.argmin(x, 1)"
   ]
  },
  {
   "cell_type": "code",
   "execution_count": 6,
   "metadata": {},
   "outputs": [
    {
     "name": "stdout",
     "output_type": "stream",
     "text": [
      "Argmin position =  [2 3 3 3]\n"
     ]
    }
   ],
   "source": [
    "with tf.Session() as session:\n",
    "    print(\"Argmin position = \", session.run(arg_min))"
   ]
  },
  {
   "cell_type": "markdown",
   "metadata": {},
   "source": [
    "##### tf.argmax"
   ]
  },
  {
   "cell_type": "code",
   "execution_count": 7,
   "metadata": {},
   "outputs": [],
   "source": [
    "arg_max = tf.argmax(x, 1)"
   ]
  },
  {
   "cell_type": "code",
   "execution_count": 8,
   "metadata": {},
   "outputs": [
    {
     "name": "stdout",
     "output_type": "stream",
     "text": [
      "Argmax position =  [3 2 1 0]\n"
     ]
    }
   ],
   "source": [
    "with tf.Session() as session:\n",
    "    print(\"Argmax position = \", session.run(arg_max))"
   ]
  },
  {
   "cell_type": "markdown",
   "metadata": {},
   "source": [
    "##### tf.unique"
   ]
  },
  {
   "cell_type": "code",
   "execution_count": 9,
   "metadata": {},
   "outputs": [],
   "source": [
    "unique = tf.unique(y0)"
   ]
  },
  {
   "cell_type": "code",
   "execution_count": 10,
   "metadata": {},
   "outputs": [
    {
     "name": "stdout",
     "output_type": "stream",
     "text": [
      "Unique_values =  [1. 2. 5. 3. 7.]\n",
      "Unique_idx =  [0 1 2 3 4]\n"
     ]
    }
   ],
   "source": [
    "with tf.Session() as session:\n",
    "    print(\"Unique_values = \", session.run(unique)[0])\n",
    "    print(\"Unique_idx = \", session.run(unique)[1])"
   ]
  },
  {
   "cell_type": "code",
   "execution_count": 11,
   "metadata": {},
   "outputs": [],
   "source": [
    "unique = tf.unique(y1)"
   ]
  },
  {
   "cell_type": "code",
   "execution_count": 12,
   "metadata": {},
   "outputs": [
    {
     "name": "stdout",
     "output_type": "stream",
     "text": [
      "Unique_values =  [1. 5. 3.]\n",
      "Unique_idx =  [0 0 1 2 2]\n"
     ]
    }
   ],
   "source": [
    "with tf.Session() as session:\n",
    "    print(\"Unique_values = \", session.run(unique)[0])\n",
    "    print(\"Unique_idx = \", session.run(unique)[1])"
   ]
  },
  {
   "cell_type": "markdown",
   "metadata": {},
   "source": [
    "##### tf.setdiff1d"
   ]
  },
  {
   "cell_type": "code",
   "execution_count": 13,
   "metadata": {},
   "outputs": [],
   "source": [
    "diff = tf.setdiff1d(y0, z)"
   ]
  },
  {
   "cell_type": "code",
   "execution_count": 14,
   "metadata": {},
   "outputs": [
    {
     "name": "stdout",
     "output_type": "stream",
     "text": [
      "Setdiff_values =  [5. 3. 7.]\n",
      "Setdiff_idx =  [2 3 4]\n"
     ]
    }
   ],
   "source": [
    "with tf.Session() as session:\n",
    "    print(\"Setdiff_values = \", session.run(diff)[0])\n",
    "    print(\"Setdiff_idx = \", session.run(diff)[1])"
   ]
  },
  {
   "cell_type": "code",
   "execution_count": 15,
   "metadata": {},
   "outputs": [],
   "source": [
    "diff = tf.setdiff1d(z, y0)"
   ]
  },
  {
   "cell_type": "code",
   "execution_count": 16,
   "metadata": {},
   "outputs": [
    {
     "name": "stdout",
     "output_type": "stream",
     "text": [
      "Setdiff_values =  [0. 4. 6.]\n",
      "Setdiff_idx =  [1 2 3]\n"
     ]
    }
   ],
   "source": [
    "with tf.Session() as session:\n",
    "    print(\"Setdiff_values = \", session.run(diff)[0])\n",
    "    print(\"Setdiff_idx = \", session.run(diff)[1])"
   ]
  }
 ],
 "metadata": {
  "kernelspec": {
   "display_name": "Python 3",
   "language": "python",
   "name": "python3"
  },
  "language_info": {
   "codemirror_mode": {
    "name": "ipython",
    "version": 3
   },
   "file_extension": ".py",
   "mimetype": "text/x-python",
   "name": "python",
   "nbconvert_exporter": "python",
   "pygments_lexer": "ipython3",
   "version": "3.6.4"
  }
 },
 "nbformat": 4,
 "nbformat_minor": 2
}
