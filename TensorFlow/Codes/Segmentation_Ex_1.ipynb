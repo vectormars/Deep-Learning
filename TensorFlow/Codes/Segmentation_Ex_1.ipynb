{
 "cells": [
  {
   "cell_type": "code",
   "execution_count": 1,
   "metadata": {},
   "outputs": [
    {
     "name": "stderr",
     "output_type": "stream",
     "text": [
      "C:\\Anaconda3\\lib\\site-packages\\h5py\\__init__.py:36: FutureWarning: Conversion of the second argument of issubdtype from `float` to `np.floating` is deprecated. In future, it will be treated as `np.float64 == np.dtype(float).type`.\n",
      "  from ._conv import register_converters as _register_converters\n"
     ]
    }
   ],
   "source": [
    "import tensorflow as tf\n",
    "import numpy as np"
   ]
  },
  {
   "cell_type": "code",
   "execution_count": 2,
   "metadata": {},
   "outputs": [],
   "source": [
    "def convert(v, t=tf.float32):\n",
    "    return tf.convert_to_tensor(v, dtype=t)"
   ]
  },
  {
   "cell_type": "code",
   "execution_count": 3,
   "metadata": {},
   "outputs": [],
   "source": [
    "seg_ids = tf.constant([0, 0, 1, 2, 2])\n",
    "tens1 = convert(np.array([(2, 5, 3, -5), (0, 3, -2, 5), (4, 3, 5, 3), (6, 1, 4, 0), (6, 1, 4, 0)]), tf.int32)\n",
    "tens2 = convert(np.array([1, 2, 3, 4, 5]), tf.int32)"
   ]
  },
  {
   "cell_type": "code",
   "execution_count": 4,
   "metadata": {},
   "outputs": [],
   "source": [
    "seg_sum = tf.segment_sum(tens1, seg_ids)\n",
    "seg_sum_1 = tf.segment_sum(tens2, seg_ids)"
   ]
  },
  {
   "cell_type": "code",
   "execution_count": 5,
   "metadata": {},
   "outputs": [
    {
     "name": "stdout",
     "output_type": "stream",
     "text": [
      "Segmentation sum tens1: \n",
      "[[ 2  8  1  0]\n",
      " [ 4  3  5  3]\n",
      " [12  2  8  0]]\n",
      "Segmentation sum tens2:  [3 3 9]\n"
     ]
    }
   ],
   "source": [
    "with tf.Session() as session:\n",
    "    print(\"Segmentation sum tens1: \")\n",
    "    print(session.run(seg_sum))\n",
    "    print(\"Segmentation sum tens2: \", session.run(seg_sum_1)) "
   ]
  }
 ],
 "metadata": {
  "kernelspec": {
   "display_name": "Python 3",
   "language": "python",
   "name": "python3"
  },
  "language_info": {
   "codemirror_mode": {
    "name": "ipython",
    "version": 3
   },
   "file_extension": ".py",
   "mimetype": "text/x-python",
   "name": "python",
   "nbconvert_exporter": "python",
   "pygments_lexer": "ipython3",
   "version": "3.6.4"
  }
 },
 "nbformat": 4,
 "nbformat_minor": 2
}
