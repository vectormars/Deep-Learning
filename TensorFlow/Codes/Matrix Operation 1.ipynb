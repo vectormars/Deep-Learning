{
 "cells": [
  {
   "cell_type": "code",
   "execution_count": 1,
   "metadata": {},
   "outputs": [
    {
     "name": "stderr",
     "output_type": "stream",
     "text": [
      "C:\\Anaconda3\\lib\\site-packages\\h5py\\__init__.py:36: FutureWarning: Conversion of the second argument of issubdtype from `float` to `np.floating` is deprecated. In future, it will be treated as `np.float64 == np.dtype(float).type`.\n",
      "  from ._conv import register_converters as _register_converters\n"
     ]
    }
   ],
   "source": [
    "import tensorflow as tf\n",
    "import numpy as np"
   ]
  },
  {
   "cell_type": "code",
   "execution_count": 2,
   "metadata": {},
   "outputs": [],
   "source": [
    "def convert(v, t=tf.float32):\n",
    "    return tf.convert_to_tensor(v, dtype=t)"
   ]
  },
  {
   "cell_type": "code",
   "execution_count": 3,
   "metadata": {},
   "outputs": [],
   "source": [
    "m1 = convert(np.array(np.random.rand(4, 4), dtype='float32'))\n",
    "m2 = convert(np.array(np.random.rand(4, 4), dtype='float32'))\n",
    "m3 = convert(np.array(np.random.rand(4, 4), dtype='float32'))\n",
    "m4 = convert(np.array(np.random.rand(4, 4), dtype='float32'))\n",
    "m5 = convert(np.array(np.random.rand(4, 4), dtype='float32'))"
   ]
  },
  {
   "cell_type": "code",
   "execution_count": 4,
   "metadata": {},
   "outputs": [],
   "source": [
    "m_tranpose = tf.transpose(m1)\n",
    "m_mul = tf.matmul(m1, m2)\n",
    "m_det = tf.matrix_determinant(m3)\n",
    "m_inv = tf.matrix_inverse(m4)\n",
    "m_solve = tf.matrix_solve(m5, [[1], [1], [1], [1]])"
   ]
  },
  {
   "cell_type": "code",
   "execution_count": 5,
   "metadata": {},
   "outputs": [
    {
     "name": "stdout",
     "output_type": "stream",
     "text": [
      "[[0.3682642  0.7978085  0.8070538  0.67165536]\n",
      " [0.65931267 0.8877299  0.60784006 0.7246884 ]\n",
      " [0.6895274  0.95535773 0.8939838  0.24484082]\n",
      " [0.52734923 0.3491321  0.462596   0.01833919]]\n",
      "[[1.2057041  1.9095683  0.8806881  1.1225181 ]\n",
      " [1.8828927  2.5690298  1.0693606  1.7114007 ]\n",
      " [1.7847173  2.380805   0.83556056 1.5367131 ]\n",
      " [1.0083694  1.3947484  0.7588531  1.0592405 ]]\n",
      "[[  1.6894134    1.4098446    0.06959404  -7.2251163 ]\n",
      " [ -1.6122389   -5.755912    -0.7131035   23.550356  ]\n",
      " [  0.1014658    7.5447035    0.30768004 -15.528978  ]\n",
      " [  0.772302     4.0226846    1.6211435  -17.101574  ]]\n",
      "0.18544172\n",
      "[[ 0.03099902]\n",
      " [ 1.9465903 ]\n",
      " [ 0.4034313 ]\n",
      " [-0.5321802 ]]\n"
     ]
    }
   ],
   "source": [
    "with tf.Session() as session:\n",
    "    print(session.run(m_tranpose))\n",
    "    print(session.run(m_mul))\n",
    "    print(session.run(m_inv))\n",
    "    print(session.run(m_det))\n",
    "    print(session.run(m_solve))"
   ]
  }
 ],
 "metadata": {
  "kernelspec": {
   "display_name": "Python 3",
   "language": "python",
   "name": "python3"
  },
  "language_info": {
   "codemirror_mode": {
    "name": "ipython",
    "version": 3
   },
   "file_extension": ".py",
   "mimetype": "text/x-python",
   "name": "python",
   "nbconvert_exporter": "python",
   "pygments_lexer": "ipython3",
   "version": "3.6.4"
  }
 },
 "nbformat": 4,
 "nbformat_minor": 2
}
