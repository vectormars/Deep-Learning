{
 "cells": [
  {
   "cell_type": "code",
   "execution_count": 1,
   "metadata": {},
   "outputs": [
    {
     "name": "stderr",
     "output_type": "stream",
     "text": [
      "C:\\Anaconda3\\lib\\site-packages\\h5py\\__init__.py:36: FutureWarning: Conversion of the second argument of issubdtype from `float` to `np.floating` is deprecated. In future, it will be treated as `np.float64 == np.dtype(float).type`.\n",
      "  from ._conv import register_converters as _register_converters\n"
     ]
    }
   ],
   "source": [
    "import tensorflow as tf\n",
    "import numpy as np"
   ]
  },
  {
   "cell_type": "code",
   "execution_count": 2,
   "metadata": {},
   "outputs": [],
   "source": [
    "test_data_size = 2000\n",
    "iterations = 10000\n",
    "learn_rate = 0.005"
   ]
  },
  {
   "cell_type": "code",
   "execution_count": 3,
   "metadata": {},
   "outputs": [],
   "source": [
    "def generate_test_values():\n",
    "    train_x = []\n",
    "    train_y = []\n",
    "\n",
    "    for _ in range(test_data_size):\n",
    "        x1 = np.random.rand()\n",
    "        x2 = np.random.rand()\n",
    "        x3 = np.random.rand()\n",
    "        y_f = 2 * x1 + 3 * x2 + 7 * x3 + 4\n",
    "        train_x.append([x1, x2, x3])\n",
    "        train_y.append(y_f)\n",
    "\n",
    "    return np.array(train_x), np.transpose([train_y])"
   ]
  },
  {
   "cell_type": "code",
   "execution_count": 4,
   "metadata": {},
   "outputs": [],
   "source": [
    "x = tf.placeholder(tf.float32, [None, 3], name=\"x\")\n",
    "W = tf.Variable(tf.zeros([3, 1]), name=\"W\")\n",
    "b = tf.Variable(tf.zeros([1]), name=\"b\")\n",
    "y = tf.placeholder(tf.float32, [None, 1])"
   ]
  },
  {
   "cell_type": "code",
   "execution_count": 5,
   "metadata": {},
   "outputs": [],
   "source": [
    "model = tf.add(tf.matmul(x, W), b)"
   ]
  },
  {
   "cell_type": "code",
   "execution_count": 6,
   "metadata": {},
   "outputs": [],
   "source": [
    "cost = tf.reduce_mean(tf.square(y - model))\n",
    "train = tf.train.GradientDescentOptimizer(learn_rate).minimize(cost)"
   ]
  },
  {
   "cell_type": "code",
   "execution_count": 7,
   "metadata": {},
   "outputs": [],
   "source": [
    "train_dataset, train_values = generate_test_values()"
   ]
  },
  {
   "cell_type": "code",
   "execution_count": 8,
   "metadata": {},
   "outputs": [],
   "source": [
    "init = tf.global_variables_initializer()"
   ]
  },
  {
   "cell_type": "code",
   "execution_count": 9,
   "metadata": {},
   "outputs": [
    {
     "name": "stdout",
     "output_type": "stream",
     "text": [
      "cost = 3.5390155971981585e-05\n",
      "W = [[1.9887966]\n",
      " [2.98841  ]\n",
      " [6.986829 ]]\n",
      "b = [4.01879]\n"
     ]
    }
   ],
   "source": [
    "with tf.Session() as session:\n",
    "    session.run(init)\n",
    "\n",
    "    for _ in range(iterations):\n",
    "\n",
    "        session.run(train, feed_dict={\n",
    "            x: train_dataset,\n",
    "            y: train_values\n",
    "        })\n",
    "\n",
    "    print(\"cost = {}\".format(session.run(cost, feed_dict={\n",
    "        x: train_dataset,\n",
    "        y: train_values\n",
    "    })))\n",
    "\n",
    "    print(\"W = {}\".format(session.run(W)))\n",
    "    print(\"b = {}\".format(session.run(b)))"
   ]
  }
 ],
 "metadata": {
  "kernelspec": {
   "display_name": "Python 3",
   "language": "python",
   "name": "python3"
  },
  "language_info": {
   "codemirror_mode": {
    "name": "ipython",
    "version": 3
   },
   "file_extension": ".py",
   "mimetype": "text/x-python",
   "name": "python",
   "nbconvert_exporter": "python",
   "pygments_lexer": "ipython3",
   "version": "3.6.4"
  }
 },
 "nbformat": 4,
 "nbformat_minor": 2
}
