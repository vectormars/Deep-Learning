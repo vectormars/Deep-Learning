{
 "cells": [
  {
   "cell_type": "code",
   "execution_count": 1,
   "metadata": {},
   "outputs": [
    {
     "name": "stderr",
     "output_type": "stream",
     "text": [
      "C:\\Anaconda3\\lib\\site-packages\\h5py\\__init__.py:36: FutureWarning: Conversion of the second argument of issubdtype from `float` to `np.floating` is deprecated. In future, it will be treated as `np.float64 == np.dtype(float).type`.\n",
      "  from ._conv import register_converters as _register_converters\n"
     ]
    }
   ],
   "source": [
    "import tensorflow as tf\n",
    "import numpy as np"
   ]
  },
  {
   "cell_type": "code",
   "execution_count": 2,
   "metadata": {},
   "outputs": [],
   "source": [
    "def convert(v, t=tf.float32):\n",
    "    return tf.convert_to_tensor(v, dtype=t)"
   ]
  },
  {
   "cell_type": "code",
   "execution_count": 3,
   "metadata": {},
   "outputs": [],
   "source": [
    "x = convert(np.array(\n",
    "        [\n",
    "            (1, 2, 3),\n",
    "            (4, 5, 6),\n",
    "            (7, 8, 9)\n",
    "        ]), tf.int32)"
   ]
  },
  {
   "cell_type": "code",
   "execution_count": 4,
   "metadata": {},
   "outputs": [],
   "source": [
    "bool_tensor = convert([(True, False, True), (False, False, True), (True, False, False)], tf.bool)"
   ]
  },
  {
   "cell_type": "markdown",
   "metadata": {},
   "source": [
    "#### tf.reduce_sum"
   ]
  },
  {
   "cell_type": "code",
   "execution_count": 5,
   "metadata": {},
   "outputs": [],
   "source": [
    "red_sum_0 = tf.reduce_sum(x)\n",
    "red_sum = tf.reduce_sum(x, axis=1)"
   ]
  },
  {
   "cell_type": "code",
   "execution_count": 6,
   "metadata": {},
   "outputs": [
    {
     "name": "stdout",
     "output_type": "stream",
     "text": [
      "Reduce sum without passed axis parameter:  45\n",
      "Reduce sum with passed axis=1:  [ 6 15 24]\n"
     ]
    }
   ],
   "source": [
    "with tf.Session() as session:\n",
    "    print(\"Reduce sum without passed axis parameter: \", session.run(red_sum_0))\n",
    "    print(\"Reduce sum with passed axis=1: \", session.run(red_sum))"
   ]
  },
  {
   "cell_type": "markdown",
   "metadata": {},
   "source": [
    "#### tf.reduce_prod"
   ]
  },
  {
   "cell_type": "code",
   "execution_count": 7,
   "metadata": {},
   "outputs": [],
   "source": [
    "red_prod_0 = tf.reduce_prod(x)\n",
    "red_prod = tf.reduce_prod(x, axis=1)"
   ]
  },
  {
   "cell_type": "code",
   "execution_count": 8,
   "metadata": {},
   "outputs": [
    {
     "name": "stdout",
     "output_type": "stream",
     "text": [
      "Reduce product without passed axis parameter:  362880\n",
      "Reduce product with passed axis=1:  [  6 120 504]\n"
     ]
    }
   ],
   "source": [
    "with tf.Session() as session:\n",
    "    print(\"Reduce product without passed axis parameter: \", session.run(red_prod_0))\n",
    "    print(\"Reduce product with passed axis=1: \", session.run(red_prod)) "
   ]
  },
  {
   "cell_type": "markdown",
   "metadata": {},
   "source": [
    "#### tf.reduce_min"
   ]
  },
  {
   "cell_type": "code",
   "execution_count": 9,
   "metadata": {},
   "outputs": [],
   "source": [
    "red_min = tf.reduce_min(x)\n",
    "red_min_0 = tf.reduce_min(x, axis=0)\n",
    "red_min_1 = tf.reduce_min(x, axis=1)"
   ]
  },
  {
   "cell_type": "code",
   "execution_count": 10,
   "metadata": {},
   "outputs": [
    {
     "name": "stdout",
     "output_type": "stream",
     "text": [
      "Reduce min without passed axis parameter:  1\n",
      "Reduce min with passed axis=0:  [1 2 3]\n",
      "Reduce min with passed axis=1:  [1 4 7]\n"
     ]
    }
   ],
   "source": [
    "with tf.Session() as session:\n",
    "    print(\"Reduce min without passed axis parameter: \", session.run(red_min))\n",
    "    print(\"Reduce min with passed axis=0: \", session.run(red_min_0))\n",
    "    print(\"Reduce min with passed axis=1: \", session.run(red_min_1))"
   ]
  },
  {
   "cell_type": "markdown",
   "metadata": {},
   "source": [
    "#### tf.reduce_max"
   ]
  },
  {
   "cell_type": "code",
   "execution_count": 11,
   "metadata": {},
   "outputs": [],
   "source": [
    "red_max = tf.reduce_max(x)\n",
    "red_max_0 = tf.reduce_max(x, axis=0)\n",
    "red_max_1 = tf.reduce_max(x, axis=1)"
   ]
  },
  {
   "cell_type": "code",
   "execution_count": 12,
   "metadata": {},
   "outputs": [
    {
     "name": "stdout",
     "output_type": "stream",
     "text": [
      "Reduce max without passed axis parameter:  9\n",
      "Reduce max with passed axis=0:  [7 8 9]\n",
      "Reduce max with passed axis=1:  [3 6 9]\n"
     ]
    }
   ],
   "source": [
    "with tf.Session() as session:\n",
    "    print(\"Reduce max without passed axis parameter: \", session.run(red_max))\n",
    "    print(\"Reduce max with passed axis=0: \", session.run(red_max_0))\n",
    "    print(\"Reduce max with passed axis=1: \", session.run(red_max_1))"
   ]
  },
  {
   "cell_type": "markdown",
   "metadata": {},
   "source": [
    "##### tf.reduce_mean"
   ]
  },
  {
   "cell_type": "code",
   "execution_count": 13,
   "metadata": {},
   "outputs": [],
   "source": [
    "red_mean = tf.reduce_mean(x)\n",
    "red_mean_0 = tf.reduce_mean(x, axis=0)\n",
    "red_mean_1 = tf.reduce_mean(x, axis=1)"
   ]
  },
  {
   "cell_type": "code",
   "execution_count": 14,
   "metadata": {},
   "outputs": [
    {
     "name": "stdout",
     "output_type": "stream",
     "text": [
      "Reduce mean without passed axis parameter:  5\n",
      "Reduce mean with passed axis=0:  [4 5 6]\n",
      "Reduce mean with passed axis=1:  [2 5 8]\n"
     ]
    }
   ],
   "source": [
    "with tf.Session() as session:\n",
    "    print(\"Reduce mean without passed axis parameter: \", session.run(red_mean))\n",
    "    print(\"Reduce mean with passed axis=0: \", session.run(red_mean_0))\n",
    "    print(\"Reduce mean with passed axis=1: \", session.run(red_mean_1))"
   ]
  },
  {
   "cell_type": "markdown",
   "metadata": {},
   "source": [
    "##### tf.reduce_all"
   ]
  },
  {
   "cell_type": "code",
   "execution_count": 15,
   "metadata": {},
   "outputs": [],
   "source": [
    "red_bool_all = tf.reduce_all(bool_tensor)\n",
    "red_bool_all_0 = tf.reduce_all(bool_tensor, axis=0)\n",
    "red_bool_all_1 = tf.reduce_all(bool_tensor, axis=1)"
   ]
  },
  {
   "cell_type": "code",
   "execution_count": 16,
   "metadata": {},
   "outputs": [
    {
     "name": "stdout",
     "output_type": "stream",
     "text": [
      "Reduce bool all without passed axis parameter:  False\n",
      "Reduce bool all with passed axis=0:  [False False False]\n",
      "Reduce bool all with passed axis=1:  [False False False]\n"
     ]
    }
   ],
   "source": [
    "with tf.Session() as session:\n",
    "    print(\"Reduce bool all without passed axis parameter: \", session.run(red_bool_all))\n",
    "    print(\"Reduce bool all with passed axis=0: \", session.run(red_bool_all_0))\n",
    "    print(\"Reduce bool all with passed axis=1: \", session.run(red_bool_all_1))"
   ]
  },
  {
   "cell_type": "markdown",
   "metadata": {},
   "source": [
    "##### tf.reduce_any"
   ]
  },
  {
   "cell_type": "code",
   "execution_count": 17,
   "metadata": {},
   "outputs": [],
   "source": [
    "red_bool_any = tf.reduce_any(bool_tensor)\n",
    "red_bool_any_0 = tf.reduce_any(bool_tensor, axis=0)\n",
    "red_bool_any_1 = tf.reduce_any(bool_tensor, axis=1)"
   ]
  },
  {
   "cell_type": "code",
   "execution_count": 18,
   "metadata": {},
   "outputs": [
    {
     "name": "stdout",
     "output_type": "stream",
     "text": [
      "Reduce bool any without passed axis parameter:  True\n",
      "Reduce bool any with passed axis=0:  [ True False  True]\n",
      "Reduce bool any with passed axis=1:  [ True  True  True]\n"
     ]
    }
   ],
   "source": [
    "with tf.Session() as session:\n",
    "    print(\"Reduce bool any without passed axis parameter: \", session.run(red_bool_any))\n",
    "    print(\"Reduce bool any with passed axis=0: \", session.run(red_bool_any_0))\n",
    "    print(\"Reduce bool any with passed axis=1: \", session.run(red_bool_any_1))"
   ]
  }
 ],
 "metadata": {
  "kernelspec": {
   "display_name": "Python 3",
   "language": "python",
   "name": "python3"
  },
  "language_info": {
   "codemirror_mode": {
    "name": "ipython",
    "version": 3
   },
   "file_extension": ".py",
   "mimetype": "text/x-python",
   "name": "python",
   "nbconvert_exporter": "python",
   "pygments_lexer": "ipython3",
   "version": "3.6.4"
  }
 },
 "nbformat": 4,
 "nbformat_minor": 2
}
